{
 "cells": [
  {
   "cell_type": "code",
   "execution_count": 1,
   "metadata": {},
   "outputs": [],
   "source": [
    "import requests"
   ]
  },
  {
   "cell_type": "code",
   "execution_count": 2,
   "metadata": {},
   "outputs": [],
   "source": [
    "from bs4 import BeautifulSoup"
   ]
  },
  {
   "cell_type": "code",
   "execution_count": 3,
   "metadata": {},
   "outputs": [],
   "source": [
    "import pandas as pd"
   ]
  },
  {
   "cell_type": "code",
   "execution_count": 4,
   "metadata": {},
   "outputs": [],
   "source": [
    "from io import StringIO"
   ]
  },
  {
   "cell_type": "code",
   "execution_count": 5,
   "metadata": {},
   "outputs": [],
   "source": [
    "def secondsConverter(time: str):\n",
    "  minutes, seconds_ms = time.split(\":\")\n",
    "  minutes_to_seconds = int(minutes) * 60\n",
    "  seconds, miliseconds = seconds_ms.split(\".\")\n",
    "  total_seconds = (int(miliseconds) / 1000) + int(seconds) + minutes_to_seconds \n",
    "  return total_seconds"
   ]
  },
  {
   "cell_type": "code",
   "execution_count": 6,
   "metadata": {},
   "outputs": [],
   "source": [
    "all_dataframes = None # variable that will hold the merged dataframes\n",
    "list_dataframes = []\n",
    "  "
   ]
  },
  {
   "cell_type": "code",
   "execution_count": 7,
   "metadata": {},
   "outputs": [
    {
     "name": "stderr",
     "output_type": "stream",
     "text": [
      "c:\\Users\\gabin\\VSCode_Projects\\Python_Projects\\.conda\\Lib\\site-packages\\urllib3\\connectionpool.py:1097: InsecureRequestWarning: Unverified HTTPS request is being made to host 'worldathletics.org'. Adding certificate verification is strongly advised. See: https://urllib3.readthedocs.io/en/latest/advanced-usage.html#tls-warnings\n",
      "  warnings.warn(\n",
      "c:\\Users\\gabin\\VSCode_Projects\\Python_Projects\\.conda\\Lib\\site-packages\\urllib3\\connectionpool.py:1097: InsecureRequestWarning: Unverified HTTPS request is being made to host 'worldathletics.org'. Adding certificate verification is strongly advised. See: https://urllib3.readthedocs.io/en/latest/advanced-usage.html#tls-warnings\n",
      "  warnings.warn(\n",
      "c:\\Users\\gabin\\VSCode_Projects\\Python_Projects\\.conda\\Lib\\site-packages\\urllib3\\connectionpool.py:1097: InsecureRequestWarning: Unverified HTTPS request is being made to host 'worldathletics.org'. Adding certificate verification is strongly advised. See: https://urllib3.readthedocs.io/en/latest/advanced-usage.html#tls-warnings\n",
      "  warnings.warn(\n",
      "c:\\Users\\gabin\\VSCode_Projects\\Python_Projects\\.conda\\Lib\\site-packages\\urllib3\\connectionpool.py:1097: InsecureRequestWarning: Unverified HTTPS request is being made to host 'worldathletics.org'. Adding certificate verification is strongly advised. See: https://urllib3.readthedocs.io/en/latest/advanced-usage.html#tls-warnings\n",
      "  warnings.warn(\n",
      "c:\\Users\\gabin\\VSCode_Projects\\Python_Projects\\.conda\\Lib\\site-packages\\urllib3\\connectionpool.py:1097: InsecureRequestWarning: Unverified HTTPS request is being made to host 'worldathletics.org'. Adding certificate verification is strongly advised. See: https://urllib3.readthedocs.io/en/latest/advanced-usage.html#tls-warnings\n",
      "  warnings.warn(\n",
      "c:\\Users\\gabin\\VSCode_Projects\\Python_Projects\\.conda\\Lib\\site-packages\\urllib3\\connectionpool.py:1097: InsecureRequestWarning: Unverified HTTPS request is being made to host 'worldathletics.org'. Adding certificate verification is strongly advised. See: https://urllib3.readthedocs.io/en/latest/advanced-usage.html#tls-warnings\n",
      "  warnings.warn(\n"
     ]
    }
   ],
   "source": [
    "# iterate through 5 years (2020-2025) and merge the corresponding data frames into one\n",
    "for i in range(6):\n",
    "  # get the data frame from rankings \n",
    "  year = str(2025-i)\n",
    "  url = \"https://worldathletics.org/records/toplists/middlelong/1500-metres/all/men/senior/\" + year + \"?regionType=world&page=1&bestResultsOnly=true&maxResultsByCountry=all&eventId=10229502&ageCategory=senior\"\n",
    "  response = requests.get(url, verify=False)\n",
    "  all_players = pd.read_html(StringIO(response.text))\n",
    "\n",
    "  # cleaning data with pandas\n",
    "  curr_table = all_players[0]\n",
    "  curr_table = curr_table.drop(columns=[\"WIND\",\"Unnamed: 7\", \"Pos\"])\n",
    "  curr_table[\"Mark\"] = curr_table[\"Mark\"].apply(secondsConverter) # convert 1500 time to total seconds\n",
    "\n",
    "  try : # not all players have a recorded DOB\n",
    "    curr_table[\"DOB\"] = pd.to_datetime(curr_table[\"DOB\"], format=\"%d %b %Y\", errors=\"coerce\").dt.date\n",
    "  except ValueError:\n",
    "    pass\n",
    "  # rename misleading columns\n",
    "  curr_table = curr_table.rename(columns= { \n",
    "    \"DOB\": \"Date_of_Birth\",\n",
    "    \"Nat\": \"Nationality\",\n",
    "    \"Results Score\": \"Results_Score\"\n",
    "  })\n",
    "\n",
    "  # add a year column\n",
    "  curr_table[\"Year\"] = year\n",
    "\n",
    "  # add dataframe to a list of dataframes\n",
    "  list_dataframes.append(curr_table)\n",
    "  \n",
    "# finally merge all dataframes\n",
    "all_dataframes = pd.concat(list_dataframes)\n",
    "  "
   ]
  },
  {
   "cell_type": "code",
   "execution_count": 8,
   "metadata": {},
   "outputs": [],
   "source": [
    "all_dataframes.to_csv(\"Athletics_rankings.csv\", index=False)"
   ]
  }
 ],
 "metadata": {
  "kernelspec": {
   "display_name": "Python 3",
   "language": "python",
   "name": "python3"
  },
  "language_info": {
   "codemirror_mode": {
    "name": "ipython",
    "version": 3
   },
   "file_extension": ".py",
   "mimetype": "text/x-python",
   "name": "python",
   "nbconvert_exporter": "python",
   "pygments_lexer": "ipython3",
   "version": "3.11.11"
  }
 },
 "nbformat": 4,
 "nbformat_minor": 2
}
