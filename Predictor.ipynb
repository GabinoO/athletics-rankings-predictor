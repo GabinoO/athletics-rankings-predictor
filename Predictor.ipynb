{
 "cells": [
  {
   "cell_type": "code",
   "execution_count": 798,
   "metadata": {},
   "outputs": [],
   "source": [
    "import pandas as pd"
   ]
  },
  {
   "cell_type": "code",
   "execution_count": 799,
   "metadata": {},
   "outputs": [],
   "source": [
    "from sklearn.ensemble import RandomForestClassifier"
   ]
  },
  {
   "cell_type": "code",
   "execution_count": 800,
   "metadata": {},
   "outputs": [],
   "source": [
    "from sklearn.metrics import accuracy_score "
   ]
  },
  {
   "cell_type": "code",
   "execution_count": 801,
   "metadata": {},
   "outputs": [],
   "source": [
    "from sklearn.metrics import precision_score"
   ]
  },
  {
   "cell_type": "code",
   "execution_count": 802,
   "metadata": {},
   "outputs": [],
   "source": [
    "def categorize_performance(mark: int):\n",
    "  if mark <= 210:\n",
    "    return 1\n",
    "  elif mark <= 212:\n",
    "    return 2\n",
    "  elif mark <= 215:\n",
    "    return 3\n",
    "  \n",
    "  return 4"
   ]
  },
  {
   "cell_type": "code",
   "execution_count": 803,
   "metadata": {},
   "outputs": [],
   "source": [
    "def compute_roll_averages(athlete, col, new_col):\n",
    "  athlete = athlete.sort_values(\"Date\")\n",
    "  rolling_stats = athlete[col].rolling(2, closed=\"left\").mean()\n",
    "  athlete[new_col] = rolling_stats\n",
    "  athlete[new_col] = rolling_stats.dropna()\n",
    "  return athlete"
   ]
  },
  {
   "cell_type": "code",
   "execution_count": 804,
   "metadata": {},
   "outputs": [],
   "source": [
    "matches = pd.read_csv(\"Athletics_rankings.csv\")"
   ]
  },
  {
   "cell_type": "code",
   "execution_count": 805,
   "metadata": {},
   "outputs": [
    {
     "name": "stderr",
     "output_type": "stream",
     "text": [
      "C:\\Users\\gabin\\AppData\\Local\\Temp\\ipykernel_11804\\349090207.py:2: UserWarning: Could not infer format, so each element will be parsed individually, falling back to `dateutil`. To ensure parsing is consistent and as-expected, please specify a format.\n",
      "  matches[\"Date\"] = pd.to_datetime(matches[\"Date\"])\n"
     ]
    }
   ],
   "source": [
    "# Turning the columns of the data into numerical values\n",
    "matches[\"Date\"] = pd.to_datetime(matches[\"Date\"])\n",
    "matches[\"Date_of_Birth\"] = pd.to_datetime(matches[\"Date_of_Birth\"])  "
   ]
  },
  {
   "cell_type": "code",
   "execution_count": 806,
   "metadata": {},
   "outputs": [],
   "source": [
    "# Add codes to objects in data\n",
    "matches[\"Venue_code\"] = matches[\"Venue\"].astype(\"category\").cat.codes"
   ]
  },
  {
   "cell_type": "code",
   "execution_count": 807,
   "metadata": {},
   "outputs": [],
   "source": [
    "matches[\"Athlete_code\"] = matches[\"Competitor\"].astype(\"category\").cat.codes"
   ]
  },
  {
   "cell_type": "code",
   "execution_count": 808,
   "metadata": {},
   "outputs": [],
   "source": [
    "matches[\"Day_code\"] = matches[\"Date\"].dt.day_of_week"
   ]
  },
  {
   "cell_type": "code",
   "execution_count": 809,
   "metadata": {},
   "outputs": [],
   "source": [
    "matches[\"Nationality_code\"] = matches[\"Nationality\"].astype(\"category\").cat.codes"
   ]
  },
  {
   "cell_type": "code",
   "execution_count": 810,
   "metadata": {},
   "outputs": [],
   "source": [
    "matches[\"Performance_code\"] = matches[\"Mark\"].apply(categorize_performance)"
   ]
  },
  {
   "cell_type": "code",
   "execution_count": 811,
   "metadata": {},
   "outputs": [],
   "source": [
    "# For each athlete, shift \"Rank\" by 1 year to represent the previous year's rank\n",
    "matches[\"Rank_prev_year\"] = matches.groupby(\"Athlete_code\")[\"Rank\"].shift(-1).fillna(0)"
   ]
  },
  {
   "cell_type": "code",
   "execution_count": 812,
   "metadata": {},
   "outputs": [],
   "source": [
    "# Begin training on data that is not linear (number doesn't mean anything just a code for something. Ex. an ID athlete code)\n",
    "rf = RandomForestClassifier(n_estimators=50, min_samples_split=7, random_state=1) # 7"
   ]
  },
  {
   "cell_type": "code",
   "execution_count": 813,
   "metadata": {},
   "outputs": [],
   "source": [
    "def make_predictions(data, predictors):\n",
    "  train = data[(data[\"Year\"] < 2025) & (data[\"Rank\"] <= 15)]\n",
    "  test = data[(data[\"Year\"] == 2025) & (data[\"Rank\"] <= 15)]\n",
    "\n",
    "  rf.fit(train[predictors], train[\"Rank\"])\n",
    "  pred = rf.predict(test[predictors])\n",
    "  combined = pd.DataFrame(dict(actual=test[\"Rank\"], prediction=pred), index=test.index)\n",
    "  precision = precision_score(test[\"Rank\"], pred, average=\"micro\")\n",
    "  return combined, precision\n",
    "  "
   ]
  },
  {
   "cell_type": "code",
   "execution_count": 814,
   "metadata": {},
   "outputs": [],
   "source": [
    "predictors = [\"Rank\", \"Athlete_code\", \"Nationality_code\"]"
   ]
  },
  {
   "cell_type": "code",
   "execution_count": 815,
   "metadata": {},
   "outputs": [],
   "source": [
    "col = [\"Mark\", \"Rank_prev_year\"] \n"
   ]
  },
  {
   "cell_type": "code",
   "execution_count": 816,
   "metadata": {},
   "outputs": [],
   "source": [
    "new_col = [f\"{c}_rolling\" for c in col]"
   ]
  },
  {
   "cell_type": "code",
   "execution_count": 817,
   "metadata": {},
   "outputs": [
    {
     "name": "stderr",
     "output_type": "stream",
     "text": [
      "C:\\Users\\gabin\\AppData\\Local\\Temp\\ipykernel_11804\\2071382099.py:2: DeprecationWarning: DataFrameGroupBy.apply operated on the grouping columns. This behavior is deprecated, and in a future version of pandas the grouping columns will be excluded from the operation. Either pass `include_groups=False` to exclude the groupings or explicitly select the grouping columns after groupby to silence this warning.\n",
      "  athletes_rolling = matches.groupby(\"Athlete_code\").apply(lambda x: compute_roll_averages(x, col, new_col))\n"
     ]
    }
   ],
   "source": [
    "# Computer Rolling Averages for all athletes\n",
    "athletes_rolling = matches.groupby(\"Athlete_code\").apply(lambda x: compute_roll_averages(x, col, new_col))\n"
   ]
  },
  {
   "cell_type": "code",
   "execution_count": 818,
   "metadata": {},
   "outputs": [],
   "source": [
    "athletes_rolling = athletes_rolling.droplevel(\"Athlete_code\")"
   ]
  },
  {
   "cell_type": "code",
   "execution_count": 819,
   "metadata": {},
   "outputs": [],
   "source": [
    "combined, precision = make_predictions(athletes_rolling, predictors + new_col)"
   ]
  },
  {
   "cell_type": "code",
   "execution_count": 820,
   "metadata": {},
   "outputs": [],
   "source": [
    "combined = combined.merge(athletes_rolling[[\"Athlete_code\", \"Competitor\"]], left_index=True, right_index=True, how=\"left\")"
   ]
  },
  {
   "cell_type": "code",
   "execution_count": 821,
   "metadata": {},
   "outputs": [
    {
     "data": {
      "text/html": [
       "<div>\n",
       "<style scoped>\n",
       "    .dataframe tbody tr th:only-of-type {\n",
       "        vertical-align: middle;\n",
       "    }\n",
       "\n",
       "    .dataframe tbody tr th {\n",
       "        vertical-align: top;\n",
       "    }\n",
       "\n",
       "    .dataframe thead th {\n",
       "        text-align: right;\n",
       "    }\n",
       "</style>\n",
       "<table border=\"1\" class=\"dataframe\">\n",
       "  <thead>\n",
       "    <tr style=\"text-align: right;\">\n",
       "      <th></th>\n",
       "      <th>actual</th>\n",
       "      <th>prediction</th>\n",
       "      <th>Athlete_code</th>\n",
       "      <th>Competitor</th>\n",
       "    </tr>\n",
       "  </thead>\n",
       "  <tbody>\n",
       "    <tr>\n",
       "      <th>13</th>\n",
       "      <td>14</td>\n",
       "      <td>14</td>\n",
       "      <td>21</td>\n",
       "      <td>Anass ESSAYI</td>\n",
       "    </tr>\n",
       "    <tr>\n",
       "      <th>10</th>\n",
       "      <td>11</td>\n",
       "      <td>11</td>\n",
       "      <td>23</td>\n",
       "      <td>Andrew COSCORAN</td>\n",
       "    </tr>\n",
       "    <tr>\n",
       "      <th>3</th>\n",
       "      <td>4</td>\n",
       "      <td>4</td>\n",
       "      <td>28</td>\n",
       "      <td>Azeddine HABZ</td>\n",
       "    </tr>\n",
       "    <tr>\n",
       "      <th>5</th>\n",
       "      <td>6</td>\n",
       "      <td>5</td>\n",
       "      <td>42</td>\n",
       "      <td>Cameron MYERS</td>\n",
       "    </tr>\n",
       "    <tr>\n",
       "      <th>11</th>\n",
       "      <td>12</td>\n",
       "      <td>12</td>\n",
       "      <td>82</td>\n",
       "      <td>Ethan STRAND</td>\n",
       "    </tr>\n",
       "    <tr>\n",
       "      <th>12</th>\n",
       "      <td>12</td>\n",
       "      <td>12</td>\n",
       "      <td>94</td>\n",
       "      <td>Gary MARTIN</td>\n",
       "    </tr>\n",
       "    <tr>\n",
       "      <th>2</th>\n",
       "      <td>3</td>\n",
       "      <td>3</td>\n",
       "      <td>109</td>\n",
       "      <td>Hobbs KESSLER</td>\n",
       "    </tr>\n",
       "    <tr>\n",
       "      <th>4</th>\n",
       "      <td>5</td>\n",
       "      <td>4</td>\n",
       "      <td>114</td>\n",
       "      <td>Isaac NADER</td>\n",
       "    </tr>\n",
       "    <tr>\n",
       "      <th>0</th>\n",
       "      <td>1</td>\n",
       "      <td>1</td>\n",
       "      <td>124</td>\n",
       "      <td>Jakob INGEBRIGTSEN</td>\n",
       "    </tr>\n",
       "    <tr>\n",
       "      <th>14</th>\n",
       "      <td>15</td>\n",
       "      <td>15</td>\n",
       "      <td>143</td>\n",
       "      <td>Josh HOEY</td>\n",
       "    </tr>\n",
       "    <tr>\n",
       "      <th>6</th>\n",
       "      <td>7</td>\n",
       "      <td>7</td>\n",
       "      <td>164</td>\n",
       "      <td>Liam MURPHY</td>\n",
       "    </tr>\n",
       "    <tr>\n",
       "      <th>9</th>\n",
       "      <td>10</td>\n",
       "      <td>10</td>\n",
       "      <td>174</td>\n",
       "      <td>Marco LANGON</td>\n",
       "    </tr>\n",
       "    <tr>\n",
       "      <th>8</th>\n",
       "      <td>9</td>\n",
       "      <td>9</td>\n",
       "      <td>203</td>\n",
       "      <td>Neil GOURLEY</td>\n",
       "    </tr>\n",
       "    <tr>\n",
       "      <th>7</th>\n",
       "      <td>8</td>\n",
       "      <td>9</td>\n",
       "      <td>230</td>\n",
       "      <td>Robert FARKEN</td>\n",
       "    </tr>\n",
       "    <tr>\n",
       "      <th>1</th>\n",
       "      <td>2</td>\n",
       "      <td>1</td>\n",
       "      <td>286</td>\n",
       "      <td>Yared NUGUSE</td>\n",
       "    </tr>\n",
       "  </tbody>\n",
       "</table>\n",
       "</div>"
      ],
      "text/plain": [
       "    actual  prediction  Athlete_code          Competitor\n",
       "13      14          14            21        Anass ESSAYI\n",
       "10      11          11            23     Andrew COSCORAN\n",
       "3        4           4            28       Azeddine HABZ\n",
       "5        6           5            42       Cameron MYERS\n",
       "11      12          12            82        Ethan STRAND\n",
       "12      12          12            94         Gary MARTIN\n",
       "2        3           3           109       Hobbs KESSLER\n",
       "4        5           4           114         Isaac NADER\n",
       "0        1           1           124  Jakob INGEBRIGTSEN\n",
       "14      15          15           143           Josh HOEY\n",
       "6        7           7           164         Liam MURPHY\n",
       "9       10          10           174        Marco LANGON\n",
       "8        9           9           203        Neil GOURLEY\n",
       "7        8           9           230       Robert FARKEN\n",
       "1        2           1           286        Yared NUGUSE"
      ]
     },
     "execution_count": 821,
     "metadata": {},
     "output_type": "execute_result"
    }
   ],
   "source": [
    "combined"
   ]
  },
  {
   "cell_type": "code",
   "execution_count": 822,
   "metadata": {},
   "outputs": [
    {
     "data": {
      "text/plain": [
       "0.7333333333333333"
      ]
     },
     "execution_count": 822,
     "metadata": {},
     "output_type": "execute_result"
    }
   ],
   "source": [
    "precision"
   ]
  }
 ],
 "metadata": {
  "kernelspec": {
   "display_name": ".conda",
   "language": "python",
   "name": "python3"
  },
  "language_info": {
   "codemirror_mode": {
    "name": "ipython",
    "version": 3
   },
   "file_extension": ".py",
   "mimetype": "text/x-python",
   "name": "python",
   "nbconvert_exporter": "python",
   "pygments_lexer": "ipython3",
   "version": "3.11.11"
  }
 },
 "nbformat": 4,
 "nbformat_minor": 2
}
